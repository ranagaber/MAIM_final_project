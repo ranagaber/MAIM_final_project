{
 "cells": [
  {
   "cell_type": "code",
   "execution_count": null,
   "metadata": {
    "execution": {
     "iopub.execute_input": "2025-08-28T00:34:59.714645Z",
     "iopub.status.busy": "2025-08-28T00:34:59.714429Z",
     "iopub.status.idle": "2025-08-28T00:35:39.958806Z",
     "shell.execute_reply": "2025-08-28T00:35:39.958108Z",
     "shell.execute_reply.started": "2025-08-28T00:34:59.714621Z"
    },
    "trusted": true
   },
   "outputs": [
    {
     "name": "stderr",
     "output_type": "stream",
     "text": [
      "2025-08-28 00:35:22.101652: E external/local_xla/xla/stream_executor/cuda/cuda_fft.cc:477] Unable to register cuFFT factory: Attempting to register factory for plugin cuFFT when one has already been registered\n",
      "WARNING: All log messages before absl::InitializeLog() is called are written to STDERR\n",
      "E0000 00:00:1756341322.455854      36 cuda_dnn.cc:8310] Unable to register cuDNN factory: Attempting to register factory for plugin cuDNN when one has already been registered\n",
      "E0000 00:00:1756341322.555020      36 cuda_blas.cc:1418] Unable to register cuBLAS factory: Attempting to register factory for plugin cuBLAS when one has already been registered\n",
      "[nltk_data] Downloading package wordnet to /usr/share/nltk_data...\n",
      "[nltk_data]   Package wordnet is already up-to-date!\n",
      "[nltk_data] Downloading package punkt to /usr/share/nltk_data...\n",
      "[nltk_data]   Package punkt is already up-to-date!\n",
      "[nltk_data] Downloading package stopwords to /usr/share/nltk_data...\n",
      "[nltk_data]   Package stopwords is already up-to-date!\n"
     ]
    },
    {
     "data": {
      "text/plain": [
       "True"
      ]
     },
     "execution_count": 1,
     "metadata": {},
     "output_type": "execute_result"
    }
   ],
   "source": [
    "import re\n",
    "import nltk\n",
    "from nltk.corpus import stopwords\n",
    "from nltk.stem import WordNetLemmatizer\n",
    "from nltk.tokenize import word_tokenize\n",
    "from sklearn.model_selection import train_test_split\n",
    "from torch.nn.utils.rnn import pad_sequence\n",
    "import pandas as pd\n",
    "import numpy as np\n",
    "from transformers import BertTokenizer\n",
    "from transformers import BertForSequenceClassification\n",
    "from datasets import Dataset\n",
    "from nltk.stem.snowball import SnowballStemmer\n",
    "from transformers import TFBertForSequenceClassification\n",
    "from sklearn.preprocessing import LabelEncoder\n",
    "from sklearn.metrics import accuracy_score, precision_score, recall_score, f1_score\n",
    "import tensorflow as tf\n",
    "from sklearn.model_selection import train_test_split\n",
    "from sklearn.metrics import classification_report, confusion_matrix\n",
    "import matplotlib.pyplot as plt\n",
    "import seaborn as sns\n",
    "nltk.download('wordnet')\n",
    "nltk.download('punkt')\n",
    "nltk.download('stopwords')"
   ]
  },
  {
   "cell_type": "code",
   "execution_count": 2,
   "metadata": {
    "execution": {
     "iopub.execute_input": "2025-08-28T00:35:39.960640Z",
     "iopub.status.busy": "2025-08-28T00:35:39.960124Z",
     "iopub.status.idle": "2025-08-28T00:35:43.453284Z",
     "shell.execute_reply": "2025-08-28T00:35:43.452534Z",
     "shell.execute_reply.started": "2025-08-28T00:35:39.960620Z"
    },
    "trusted": true
   },
   "outputs": [
    {
     "name": "stderr",
     "output_type": "stream",
     "text": [
      "/tmp/ipykernel_36/2829289281.py:4: DeprecationWarning: load_dataset is deprecated and will be removed in a future version.\n",
      "  fake = kagglehub.load_dataset(\n",
      "/tmp/ipykernel_36/2829289281.py:10: DeprecationWarning: load_dataset is deprecated and will be removed in a future version.\n",
      "  true = kagglehub.load_dataset(\n"
     ]
    },
    {
     "name": "stdout",
     "output_type": "stream",
     "text": [
      "Fake news sample:\n",
      "                                               title  \\\n",
      "0   Donald Trump Sends Out Embarrassing New Year’...   \n",
      "1   Drunk Bragging Trump Staffer Started Russian ...   \n",
      "2   Sheriff David Clarke Becomes An Internet Joke...   \n",
      "3   Trump Is So Obsessed He Even Has Obama’s Name...   \n",
      "4   Pope Francis Just Called Out Donald Trump Dur...   \n",
      "\n",
      "                                                text subject  \\\n",
      "0  Donald Trump just couldn t wish all Americans ...    News   \n",
      "1  House Intelligence Committee Chairman Devin Nu...    News   \n",
      "2  On Friday, it was revealed that former Milwauk...    News   \n",
      "3  On Christmas day, Donald Trump announced that ...    News   \n",
      "4  Pope Francis used his annual Christmas Day mes...    News   \n",
      "\n",
      "                date  \n",
      "0  December 31, 2017  \n",
      "1  December 31, 2017  \n",
      "2  December 30, 2017  \n",
      "3  December 29, 2017  \n",
      "4  December 25, 2017  \n",
      "\n",
      "True news sample:\n",
      "                                               title  \\\n",
      "0  As U.S. budget fight looms, Republicans flip t...   \n",
      "1  U.S. military to accept transgender recruits o...   \n",
      "2  Senior U.S. Republican senator: 'Let Mr. Muell...   \n",
      "3  FBI Russia probe helped by Australian diplomat...   \n",
      "4  Trump wants Postal Service to charge 'much mor...   \n",
      "\n",
      "                                                text       subject  \\\n",
      "0  WASHINGTON (Reuters) - The head of a conservat...  politicsNews   \n",
      "1  WASHINGTON (Reuters) - Transgender people will...  politicsNews   \n",
      "2  WASHINGTON (Reuters) - The special counsel inv...  politicsNews   \n",
      "3  WASHINGTON (Reuters) - Trump campaign adviser ...  politicsNews   \n",
      "4  SEATTLE/WASHINGTON (Reuters) - President Donal...  politicsNews   \n",
      "\n",
      "                 date  \n",
      "0  December 31, 2017   \n",
      "1  December 29, 2017   \n",
      "2  December 31, 2017   \n",
      "3  December 30, 2017   \n",
      "4  December 29, 2017   \n"
     ]
    }
   ],
   "source": [
    "import kagglehub\n",
    "from kagglehub import KaggleDatasetAdapter\n",
    "\n",
    "fake = kagglehub.load_dataset(\n",
    "    KaggleDatasetAdapter.PANDAS,\n",
    "    \"clmentbisaillon/fake-and-real-news-dataset\",\n",
    "    \"Fake.csv\"\n",
    ")\n",
    "\n",
    "true = kagglehub.load_dataset(\n",
    "    KaggleDatasetAdapter.PANDAS,\n",
    "    \"clmentbisaillon/fake-and-real-news-dataset\",\n",
    "    \"True.csv\"\n",
    ")\n",
    "\n",
    "print(\"Fake news sample:\")\n",
    "print(fake.head())\n",
    "\n",
    "print(\"\\nTrue news sample:\")\n",
    "print(true.head())\n"
   ]
  },
  {
   "cell_type": "code",
   "execution_count": null,
   "metadata": {
    "execution": {
     "iopub.execute_input": "2025-08-28T00:35:43.454434Z",
     "iopub.status.busy": "2025-08-28T00:35:43.454169Z",
     "iopub.status.idle": "2025-08-28T00:35:43.460248Z",
     "shell.execute_reply": "2025-08-28T00:35:43.459721Z",
     "shell.execute_reply.started": "2025-08-28T00:35:43.454410Z"
    },
    "trusted": true
   },
   "outputs": [],
   "source": [
    "def clean(df):\n",
    "    stop_words = set(stopwords.words('english'))\n",
    "    lemmatizer = WordNetLemmatizer()\n",
    "\n",
    "    RE_WSPACE = re.compile(r\"\\s+\")\n",
    "    RE_TAGS = re.compile(r\"<[^>]+>\")\n",
    "    RE_ASCII = re.compile(r\"[^A-Za-z0-9À-ž ]\")   \n",
    "    RE_SINGLECHAR = re.compile(r\"\\b[A-Za-zÀ-ž]\\b\")\n",
    "\n",
    "    for i in range(len(df)):\n",
    "        sentence = df.loc[i, 'all_text']\n",
    "\n",
    "        sentence = re.sub(RE_TAGS, \" \", sentence)\n",
    "        sentence = re.sub(RE_ASCII, \" \", sentence)\n",
    "        sentence = re.sub(RE_SINGLECHAR, \" \", sentence)\n",
    "        sentence = re.sub(RE_WSPACE, \" \", sentence)\n",
    "\n",
    "        sentence = word_tokenize(sentence)\n",
    "        sentence = [word.lower() for word in sentence]\n",
    "        sentence = [word for word in sentence if word not in stop_words]\n",
    "        # no lemmatization as bert does it anyways \n",
    "        #sentence = [lemmatizer.lemmatize(word) for word in sentence]\n",
    "\n",
    "        df.loc[i, 'all_text'] = \" \".join(sentence)\n",
    "\n",
    "    return df\n"
   ]
  },
  {
   "cell_type": "code",
   "execution_count": 4,
   "metadata": {
    "execution": {
     "iopub.execute_input": "2025-08-28T00:35:43.462050Z",
     "iopub.status.busy": "2025-08-28T00:35:43.461813Z",
     "iopub.status.idle": "2025-08-28T00:35:43.521424Z",
     "shell.execute_reply": "2025-08-28T00:35:43.520927Z",
     "shell.execute_reply.started": "2025-08-28T00:35:43.462034Z"
    },
    "trusted": true
   },
   "outputs": [],
   "source": [
    "fake['label'] = 1\n",
    "true['label'] = 0"
   ]
  },
  {
   "cell_type": "code",
   "execution_count": 5,
   "metadata": {
    "execution": {
     "iopub.execute_input": "2025-08-28T00:35:43.522355Z",
     "iopub.status.busy": "2025-08-28T00:35:43.522106Z",
     "iopub.status.idle": "2025-08-28T00:35:43.542228Z",
     "shell.execute_reply": "2025-08-28T00:35:43.541608Z",
     "shell.execute_reply.started": "2025-08-28T00:35:43.522334Z"
    },
    "trusted": true
   },
   "outputs": [
    {
     "data": {
      "text/plain": [
       "Index(['title', 'text', 'subject', 'date', 'label'], dtype='object')"
      ]
     },
     "execution_count": 5,
     "metadata": {},
     "output_type": "execute_result"
    }
   ],
   "source": [
    "fake.columns"
   ]
  },
  {
   "cell_type": "code",
   "execution_count": 6,
   "metadata": {
    "execution": {
     "iopub.execute_input": "2025-08-28T00:35:43.542951Z",
     "iopub.status.busy": "2025-08-28T00:35:43.542753Z",
     "iopub.status.idle": "2025-08-28T00:35:43.748154Z",
     "shell.execute_reply": "2025-08-28T00:35:43.747472Z",
     "shell.execute_reply.started": "2025-08-28T00:35:43.542936Z"
    },
    "trusted": true
   },
   "outputs": [
    {
     "data": {
      "text/html": [
       "<div>\n",
       "<style scoped>\n",
       "    .dataframe tbody tr th:only-of-type {\n",
       "        vertical-align: middle;\n",
       "    }\n",
       "\n",
       "    .dataframe tbody tr th {\n",
       "        vertical-align: top;\n",
       "    }\n",
       "\n",
       "    .dataframe thead th {\n",
       "        text-align: right;\n",
       "    }\n",
       "</style>\n",
       "<table border=\"1\" class=\"dataframe\">\n",
       "  <thead>\n",
       "    <tr style=\"text-align: right;\">\n",
       "      <th></th>\n",
       "      <th>label</th>\n",
       "      <th>all_text</th>\n",
       "    </tr>\n",
       "  </thead>\n",
       "  <tbody>\n",
       "    <tr>\n",
       "      <th>0</th>\n",
       "      <td>0</td>\n",
       "      <td>As U.S. budget fight looms, Republicans flip t...</td>\n",
       "    </tr>\n",
       "    <tr>\n",
       "      <th>1</th>\n",
       "      <td>0</td>\n",
       "      <td>U.S. military to accept transgender recruits o...</td>\n",
       "    </tr>\n",
       "    <tr>\n",
       "      <th>2</th>\n",
       "      <td>0</td>\n",
       "      <td>Senior U.S. Republican senator: 'Let Mr. Muell...</td>\n",
       "    </tr>\n",
       "    <tr>\n",
       "      <th>3</th>\n",
       "      <td>0</td>\n",
       "      <td>FBI Russia probe helped by Australian diplomat...</td>\n",
       "    </tr>\n",
       "    <tr>\n",
       "      <th>4</th>\n",
       "      <td>0</td>\n",
       "      <td>Trump wants Postal Service to charge 'much mor...</td>\n",
       "    </tr>\n",
       "  </tbody>\n",
       "</table>\n",
       "</div>"
      ],
      "text/plain": [
       "   label                                           all_text\n",
       "0      0  As U.S. budget fight looms, Republicans flip t...\n",
       "1      0  U.S. military to accept transgender recruits o...\n",
       "2      0  Senior U.S. Republican senator: 'Let Mr. Muell...\n",
       "3      0  FBI Russia probe helped by Australian diplomat...\n",
       "4      0  Trump wants Postal Service to charge 'much mor..."
      ]
     },
     "execution_count": 6,
     "metadata": {},
     "output_type": "execute_result"
    }
   ],
   "source": [
    "df = pd.concat([true, fake], ignore_index=True)\n",
    "df['all_text'] = df['title'] + \" \" + df['text']\n",
    "df = df.drop(columns = ['title' , 'text' , 'date' , 'subject'])\n",
    "\n",
    "df.head()"
   ]
  },
  {
   "cell_type": "code",
   "execution_count": 7,
   "metadata": {
    "execution": {
     "iopub.execute_input": "2025-08-28T00:35:43.749025Z",
     "iopub.status.busy": "2025-08-28T00:35:43.748842Z",
     "iopub.status.idle": "2025-08-28T00:36:52.930862Z",
     "shell.execute_reply": "2025-08-28T00:36:52.930282Z",
     "shell.execute_reply.started": "2025-08-28T00:35:43.749010Z"
    },
    "trusted": true
   },
   "outputs": [],
   "source": [
    "df  = clean(df)"
   ]
  },
  {
   "cell_type": "code",
   "execution_count": 8,
   "metadata": {
    "execution": {
     "iopub.execute_input": "2025-08-28T00:36:52.931833Z",
     "iopub.status.busy": "2025-08-28T00:36:52.931605Z",
     "iopub.status.idle": "2025-08-28T00:36:52.939327Z",
     "shell.execute_reply": "2025-08-28T00:36:52.938828Z",
     "shell.execute_reply.started": "2025-08-28T00:36:52.931815Z"
    },
    "trusted": true
   },
   "outputs": [],
   "source": [
    "texts = df['all_text'].astype(str).tolist()\n",
    "labels = df['label'].tolist()"
   ]
  },
  {
   "cell_type": "code",
   "execution_count": null,
   "metadata": {
    "execution": {
     "iopub.execute_input": "2025-08-28T00:36:52.940307Z",
     "iopub.status.busy": "2025-08-28T00:36:52.940020Z",
     "iopub.status.idle": "2025-08-28T00:40:08.279226Z",
     "shell.execute_reply": "2025-08-28T00:40:08.278422Z",
     "shell.execute_reply.started": "2025-08-28T00:36:52.940281Z"
    },
    "trusted": true
   },
   "outputs": [
    {
     "data": {
      "application/vnd.jupyter.widget-view+json": {
       "model_id": "47c50cf399f5466486e0f7c242bdf196",
       "version_major": 2,
       "version_minor": 0
      },
      "text/plain": [
       "config.json:   0%|          | 0.00/570 [00:00<?, ?B/s]"
      ]
     },
     "metadata": {},
     "output_type": "display_data"
    },
    {
     "data": {
      "application/vnd.jupyter.widget-view+json": {
       "model_id": "8ecb61a8699d430d933637ad9211439d",
       "version_major": 2,
       "version_minor": 0
      },
      "text/plain": [
       "model.safetensors:   0%|          | 0.00/440M [00:00<?, ?B/s]"
      ]
     },
     "metadata": {},
     "output_type": "display_data"
    },
    {
     "name": "stderr",
     "output_type": "stream",
     "text": [
      "I0000 00:00:1756341415.640637      36 gpu_device.cc:2022] Created device /job:localhost/replica:0/task:0/device:GPU:0 with 13942 MB memory:  -> device: 0, name: Tesla T4, pci bus id: 0000:00:04.0, compute capability: 7.5\n",
      "I0000 00:00:1756341415.641246      36 gpu_device.cc:2022] Created device /job:localhost/replica:0/task:0/device:GPU:1 with 13942 MB memory:  -> device: 1, name: Tesla T4, pci bus id: 0000:00:05.0, compute capability: 7.5\n",
      "All PyTorch model weights were used when initializing TFBertForSequenceClassification.\n",
      "\n",
      "Some weights or buffers of the TF 2.0 model TFBertForSequenceClassification were not initialized from the PyTorch model and are newly initialized: ['classifier.weight', 'classifier.bias']\n",
      "You should probably TRAIN this model on a down-stream task to be able to use it for predictions and inference.\n"
     ]
    },
    {
     "data": {
      "application/vnd.jupyter.widget-view+json": {
       "model_id": "793425cbf28d4416a1b5e1130ed06fa9",
       "version_major": 2,
       "version_minor": 0
      },
      "text/plain": [
       "tokenizer_config.json:   0%|          | 0.00/48.0 [00:00<?, ?B/s]"
      ]
     },
     "metadata": {},
     "output_type": "display_data"
    },
    {
     "data": {
      "application/vnd.jupyter.widget-view+json": {
       "model_id": "90ee010352f442828bf7a329b290ea53",
       "version_major": 2,
       "version_minor": 0
      },
      "text/plain": [
       "vocab.txt:   0%|          | 0.00/232k [00:00<?, ?B/s]"
      ]
     },
     "metadata": {},
     "output_type": "display_data"
    },
    {
     "data": {
      "application/vnd.jupyter.widget-view+json": {
       "model_id": "99afc1641ad44c21afb26d12c8ccdd59",
       "version_major": 2,
       "version_minor": 0
      },
      "text/plain": [
       "tokenizer.json:   0%|          | 0.00/466k [00:00<?, ?B/s]"
      ]
     },
     "metadata": {},
     "output_type": "display_data"
    }
   ],
   "source": [
    "model = TFBertForSequenceClassification.from_pretrained(\"bert-base-uncased\", num_labels=2)\n",
    "tokenizer = BertTokenizer.from_pretrained(\"bert-base-uncased\")\n",
    "encodings = tokenizer(texts, truncation=True, padding=True, max_length=128)"
   ]
  },
  {
   "cell_type": "code",
   "execution_count": 10,
   "metadata": {
    "execution": {
     "iopub.execute_input": "2025-08-28T00:40:08.282905Z",
     "iopub.status.busy": "2025-08-28T00:40:08.282679Z",
     "iopub.status.idle": "2025-08-28T00:40:09.592881Z",
     "shell.execute_reply": "2025-08-28T00:40:09.592286Z",
     "shell.execute_reply.started": "2025-08-28T00:40:08.282889Z"
    },
    "trusted": true
   },
   "outputs": [],
   "source": [
    "X_train, X_test, y_train, y_test = train_test_split(\n",
    "    encodings['input_ids'], labels, test_size=0.2, random_state=42\n",
    ")\n",
    "\n",
    "X_train = tf.convert_to_tensor(X_train)\n",
    "X_test = tf.convert_to_tensor(X_test)\n",
    "y_train = tf.convert_to_tensor(y_train)\n",
    "y_test = tf.convert_to_tensor(y_test)\n",
    "\n",
    "train_masks = tf.cast(X_train != tokenizer.pad_token_id, dtype=tf.int32)\n",
    "test_masks = tf.cast(X_test != tokenizer.pad_token_id, dtype=tf.int32)"
   ]
  },
  {
   "cell_type": "code",
   "execution_count": 11,
   "metadata": {
    "execution": {
     "iopub.execute_input": "2025-08-28T00:40:09.593846Z",
     "iopub.status.busy": "2025-08-28T00:40:09.593595Z",
     "iopub.status.idle": "2025-08-28T00:40:09.619943Z",
     "shell.execute_reply": "2025-08-28T00:40:09.619213Z",
     "shell.execute_reply.started": "2025-08-28T00:40:09.593825Z"
    },
    "trusted": true
   },
   "outputs": [],
   "source": [
    "batch_size = 16\n",
    "\n",
    "train_dataset = tf.data.Dataset.from_tensor_slices((\n",
    "    {'input_ids': X_train, 'attention_mask': train_masks}, y_train\n",
    ")).shuffle(1000).batch(batch_size).prefetch(tf.data.AUTOTUNE)\n",
    "\n",
    "test_dataset = tf.data.Dataset.from_tensor_slices((\n",
    "    {'input_ids': X_test, 'attention_mask': test_masks}, y_test\n",
    ")).batch(batch_size).prefetch(tf.data.AUTOTUNE)\n"
   ]
  },
  {
   "cell_type": "code",
   "execution_count": 12,
   "metadata": {
    "execution": {
     "iopub.execute_input": "2025-08-28T00:40:09.620954Z",
     "iopub.status.busy": "2025-08-28T00:40:09.620721Z",
     "iopub.status.idle": "2025-08-28T01:33:21.427073Z",
     "shell.execute_reply": "2025-08-28T01:33:21.426463Z",
     "shell.execute_reply.started": "2025-08-28T00:40:09.620939Z"
    },
    "trusted": true
   },
   "outputs": [
    {
     "name": "stdout",
     "output_type": "stream",
     "text": [
      "Epoch 1/3\n"
     ]
    },
    {
     "name": "stderr",
     "output_type": "stream",
     "text": [
      "WARNING: All log messages before absl::InitializeLog() is called are written to STDERR\n",
      "I0000 00:00:1756341649.423598     114 service.cc:148] XLA service 0x7bb566c399d0 initialized for platform CUDA (this does not guarantee that XLA will be used). Devices:\n",
      "I0000 00:00:1756341649.425020     114 service.cc:156]   StreamExecutor device (0): Tesla T4, Compute Capability 7.5\n",
      "I0000 00:00:1756341649.425039     114 service.cc:156]   StreamExecutor device (1): Tesla T4, Compute Capability 7.5\n",
      "I0000 00:00:1756341649.583912     114 cuda_dnn.cc:529] Loaded cuDNN version 90300\n",
      "I0000 00:00:1756341649.732513     114 device_compiler.h:188] Compiled cluster using XLA!  This line is logged at most once for the lifetime of the process.\n"
     ]
    },
    {
     "name": "stdout",
     "output_type": "stream",
     "text": [
      "2245/2245 [==============================] - 1100s 467ms/step - loss: 0.0227 - accuracy: 0.9936 - val_loss: 0.0116 - val_accuracy: 0.9979\n",
      "Epoch 2/3\n",
      "2245/2245 [==============================] - 1045s 466ms/step - loss: 0.0055 - accuracy: 0.9988 - val_loss: 0.0116 - val_accuracy: 0.9982\n",
      "Epoch 3/3\n",
      "2245/2245 [==============================] - 1046s 466ms/step - loss: 0.0031 - accuracy: 0.9993 - val_loss: 0.0131 - val_accuracy: 0.9982\n"
     ]
    }
   ],
   "source": [
    "optimizer = tf.keras.optimizers.Adam(learning_rate=2e-5)\n",
    "\n",
    "loss = tf.keras.losses.SparseCategoricalCrossentropy(from_logits=True)\n",
    "model.compile(optimizer=optimizer, loss=loss, metrics=['accuracy'])\n",
    "\n",
    "early_stopping = tf.keras.callbacks.EarlyStopping(\n",
    "    monitor='val_loss', patience=2, restore_best_weights=True\n",
    ")\n",
    "\n",
    "history = model.fit(\n",
    "    train_dataset,\n",
    "    validation_data=test_dataset,\n",
    "    epochs=3,\n",
    "    callbacks=[early_stopping]\n",
    ")\n"
   ]
  },
  {
   "cell_type": "code",
   "execution_count": 13,
   "metadata": {
    "execution": {
     "iopub.execute_input": "2025-08-28T01:33:21.428162Z",
     "iopub.status.busy": "2025-08-28T01:33:21.427895Z",
     "iopub.status.idle": "2025-08-28T01:33:22.038342Z",
     "shell.execute_reply": "2025-08-28T01:33:22.037587Z",
     "shell.execute_reply.started": "2025-08-28T01:33:21.428136Z"
    },
    "trusted": true
   },
   "outputs": [
    {
     "data": {
      "image/png": "[encoded data removed]",
      "text/plain": [
       "<Figure size 1200x500 with 2 Axes>"
      ]
     },
     "metadata": {},
     "output_type": "display_data"
    }
   ],
   "source": [
    "plt.figure(figsize=(12, 5))\n",
    "\n",
    "# Accuracy\n",
    "plt.subplot(1, 2, 1)\n",
    "plt.plot(history.history['accuracy'], label='Train Accuracy')\n",
    "plt.plot(history.history['val_accuracy'], label='Validation Accuracy')\n",
    "plt.title('Model Accuracy')\n",
    "plt.legend()\n",
    "\n",
    "# Loss\n",
    "plt.subplot(1, 2, 2)\n",
    "plt.plot(history.history['loss'], label='Train Loss')\n",
    "plt.plot(history.history['val_loss'], label='Validation Loss')\n",
    "plt.title('Model Loss')\n",
    "plt.legend()\n",
    "\n",
    "plt.tight_layout()\n",
    "plt.show()"
   ]
  },
  {
   "cell_type": "code",
   "execution_count": null,
   "metadata": {
    "execution": {
     "iopub.execute_input": "2025-08-28T01:33:22.039604Z",
     "iopub.status.busy": "2025-08-28T01:33:22.039259Z",
     "iopub.status.idle": "2025-08-28T01:36:10.803562Z",
     "shell.execute_reply": "2025-08-28T01:36:10.802930Z",
     "shell.execute_reply.started": "2025-08-28T01:33:22.039575Z"
    },
    "trusted": true
   },
   "outputs": [
    {
     "name": "stdout",
     "output_type": "stream",
     "text": [
      "562/562 [==============================] - 83s 147ms/step - loss: 0.0116 - accuracy: 0.9979\n",
      "\n",
      "Test Accuracy: 0.9979\n",
      "Test Loss: 0.0116\n",
      "562/562 [==============================] - 85s 146ms/step\n",
      "\n",
      "Classification Report:\n",
      "              precision    recall  f1-score   support\n",
      "\n",
      "        Fake       1.00      1.00      1.00      4330\n",
      "        Real       1.00      1.00      1.00      4650\n",
      "\n",
      "    accuracy                           1.00      8980\n",
      "   macro avg       1.00      1.00      1.00      8980\n",
      "weighted avg       1.00      1.00      1.00      8980\n",
      "\n"
     ]
    },
    {
     "data": {
      "image/png": "[encoded data removed]",
      "text/plain": [
       "<Figure size 600x500 with 2 Axes>"
      ]
     },
     "metadata": {},
     "output_type": "display_data"
    }
   ],
   "source": [
    "loss, accuracy = model.evaluate(test_dataset)\n",
    "print(f\"\\nTest Accuracy: {accuracy:.4f}\")\n",
    "print(f\"Test Loss: {loss:.4f}\")\n",
    "\n",
    "preds = model.predict(test_dataset).logits\n",
    "y_pred = np.argmax(preds, axis=1)\n",
    "\n",
    "# Classification report\n",
    "print(\"\\nClassification Report:\")\n",
    "print(classification_report(y_test, y_pred, target_names=['Fake', 'Real']))\n",
    "\n",
    "# Confusion matrix\n",
    "cm = confusion_matrix(y_test, y_pred)\n",
    "plt.figure(figsize=(6, 5))\n",
    "sns.heatmap(cm, annot=True, fmt='d', cmap='Blues', xticklabels=['Fake', 'Real'], yticklabels=['Fake', 'Real'])\n",
    "plt.xlabel('Predicted')\n",
    "plt.ylabel('Actual')\n",
    "plt.title('Confusion Matrix')\n",
    "plt.show()"
   ]
  },
  {
   "cell_type": "code",
   "execution_count": null,
   "metadata": {
    "execution": {
     "iopub.execute_input": "2025-08-28T01:38:20.812360Z",
     "iopub.status.busy": "2025-08-28T01:38:20.812093Z",
     "iopub.status.idle": "2025-08-28T01:38:20.973435Z",
     "shell.execute_reply": "2025-08-28T01:38:20.972532Z",
     "shell.execute_reply.started": "2025-08-28T01:38:20.812340Z"
    },
    "trusted": true
   },
   "outputs": [
    {
     "data": {
      "image/png": "[encoded data removed]",
      "text/plain": [
       "<Figure size 600x500 with 1 Axes>"
      ]
     },
     "metadata": {},
     "output_type": "display_data"
    }
   ],
   "source": [
    "from sklearn.metrics import roc_curve, auc\n",
    "\n",
    "outputs = model.predict(test_dataset)\n",
    "logits = outputs.logits if hasattr(outputs, \"logits\") else outputs\n",
    "logits = np.asarray(logits)\n",
    "\n",
    "if logits.ndim == 2 and logits.shape[1] == 1:\n",
    "    y_prob = tf.nn.sigmoid(logits).numpy().ravel()\n",
    "else:\n",
    "    y_prob = tf.nn.softmax(logits, axis=1).numpy()[:, 1]\n",
    "\n",
    "y_true = np.asarray(y_test).ravel()\n",
    "assert len(y_prob) == len(y_true), \"Mismatch: predictions and labels length must match\"\n",
    "\n",
    "fpr, tpr, _ = roc_curve(y_true, y_prob)\n",
    "roc_auc = auc(fpr, tpr)\n",
    "\n",
    "plt.figure(figsize=(6,5))\n",
    "plt.plot(fpr, tpr, label=f'ROC (AUC = {roc_auc:.3f})', lw=2)\n",
    "plt.plot([0,1], [0,1], '--', lw=1, color='gray')\n",
    "plt.xlabel('False Positive Rate')\n",
    "plt.ylabel('True Positive Rate')\n",
    "plt.title('BERT ROC Curve')\n",
    "plt.legend(loc='lower right')\n",
    "plt.show()"
   ]
  },
  {
   "cell_type": "code",
   "execution_count": 17,
   "metadata": {
    "execution": {
     "iopub.execute_input": "2025-08-28T01:38:49.922337Z",
     "iopub.status.busy": "2025-08-28T01:38:49.921646Z",
     "iopub.status.idle": "2025-08-28T01:38:50.927635Z",
     "shell.execute_reply": "2025-08-28T01:38:50.926905Z",
     "shell.execute_reply.started": "2025-08-28T01:38:49.922305Z"
    },
    "trusted": true
   },
   "outputs": [
    {
     "data": {
      "text/plain": [
       "('bert_finetuned_tf/tokenizer_config.json',\n",
       " 'bert_finetuned_tf/special_tokens_map.json',\n",
       " 'bert_finetuned_tf/vocab.txt',\n",
       " 'bert_finetuned_tf/added_tokens.json')"
      ]
     },
     "execution_count": 17,
     "metadata": {},
     "output_type": "execute_result"
    }
   ],
   "source": [
    "model.save_pretrained(\"bert_finetuned_tf\")\n",
    "tokenizer.save_pretrained(\"bert_finetuned_tf\")"
   ]
  },
  {
   "cell_type": "code",
   "execution_count": 20,
   "metadata": {
    "execution": {
     "iopub.execute_input": "2025-08-28T01:42:15.256912Z",
     "iopub.status.busy": "2025-08-28T01:42:15.256586Z",
     "iopub.status.idle": "2025-08-28T01:42:36.606224Z",
     "shell.execute_reply": "2025-08-28T01:42:36.605597Z",
     "shell.execute_reply.started": "2025-08-28T01:42:15.256883Z"
    },
    "trusted": true
   },
   "outputs": [],
   "source": [
    "import os\n",
    "import zipfile\n",
    "save_dir = \"bert_finetuned_tf\"\n",
    "zip_filename = f\"{save_dir}.zip\"\n",
    "with zipfile.ZipFile(zip_filename, 'w', zipfile.ZIP_DEFLATED) as zipf:\n",
    "    for root, dirs, files in os.walk(save_dir):\n",
    "        for file in files:\n",
    "            file_path = os.path.join(root, file)\n",
    "            arcname = os.path.relpath(file_path, start=save_dir)  \n",
    "            zipf.write(file_path, arcname)"
   ]
  }
 ],
 "metadata": {
  "kaggle": {
   "accelerator": "nvidiaTeslaT4",
   "dataSources": [
    {
     "datasetId": 4831777,
     "sourceId": 8165591,
     "sourceType": "datasetVersion"
    }
   ],
   "dockerImageVersionId": 31089,
   "isGpuEnabled": true,
   "isInternetEnabled": true,
   "language": "python",
   "sourceType": "notebook"
  },
  "kernelspec": {
   "display_name": "Python 3",
   "language": "python",
   "name": "python3"
  },
  "language_info": {
   "codemirror_mode": {
    "name": "ipython",
    "version": 3
   },
   "file_extension": ".py",
   "mimetype": "text/x-python",
   "name": "python",
   "nbconvert_exporter": "python",
   "pygments_lexer": "ipython3",
   "version": "3.11.13"
  }
 },
 "nbformat": 4,
 "nbformat_minor": 4
}
